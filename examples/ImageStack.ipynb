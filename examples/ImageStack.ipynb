{
 "cells": [
  {
   "cell_type": "code",
   "execution_count": 1,
   "metadata": {},
   "outputs": [],
   "source": [
    "%load_ext autoreload\n",
    "%autoreload 2\n",
    "\n",
    "import builtins\n",
    "import IPython.lib.deepreload\n",
    "builtins.reload = IPython.lib.deepreload.reload # type: ignore"
   ]
  },
  {
   "cell_type": "code",
   "execution_count": 2,
   "metadata": {},
   "outputs": [],
   "source": [
    "\"\"\"Create image stack from morphology.\"\"\"\n",
    "\n",
    "from swcgeom import Tree\n",
    "from swcgeom.transforms import ToImageStack\n"
   ]
  },
  {
   "cell_type": "code",
   "execution_count": 3,
   "metadata": {},
   "outputs": [],
   "source": [
    "swc1 = \"data/101711-10_4p5-of-16_initial.CNG.swc\"\n",
    "swc2 = \"data/101711-11_16-of-16_initial.CNG.swc\"\n",
    "swc3 = \"data/1059283677_15257_2226-X16029-Y23953.swc\"\n",
    "\n",
    "# create a tree\n",
    "tree1 = Tree.from_swc(swc1)\n",
    "tree2 = Tree.from_swc(swc2)\n",
    "tree3 = Tree.from_swc(swc3, extra_cols=[\"seg_id\",\"level\",\"mode\",\"timestamp\",\"TFresindex\"])"
   ]
  },
  {
   "cell_type": "code",
   "execution_count": null,
   "metadata": {},
   "outputs": [],
   "source": [
    "trans = ToImageStack(resolution=[1, 1, 1])\n",
    "trans.transform_and_save(\"test.tif\", tree1)"
   ]
  }
 ],
 "metadata": {
  "kernelspec": {
   "display_name": "Python 3.10.7 ('.venv': venv)",
   "language": "python",
   "name": "python3"
  },
  "language_info": {
   "codemirror_mode": {
    "name": "ipython",
    "version": 3
   },
   "file_extension": ".py",
   "mimetype": "text/x-python",
   "name": "python",
   "nbconvert_exporter": "python",
   "pygments_lexer": "ipython3",
   "version": "3.11.6"
  },
  "orig_nbformat": 4,
  "vscode": {
   "interpreter": {
    "hash": "21db5054c4bdd36d7b3f647a1caf06dc143da3e719ed6f490cf46cb05d0bf21e"
   }
  }
 },
 "nbformat": 4,
 "nbformat_minor": 2
}
