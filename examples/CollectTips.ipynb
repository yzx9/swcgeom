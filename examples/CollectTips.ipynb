{
 "cells": [
  {
   "cell_type": "code",
   "execution_count": null,
   "metadata": {},
   "outputs": [],
   "source": [
    "%load_ext autoreload\n",
    "%autoreload 2\n",
    "\n",
    "import builtins\n",
    "import IPython.lib.deepreload\n",
    "builtins.reload = IPython.lib.deepreload.reload # type: ignore"
   ]
  },
  {
   "cell_type": "code",
   "execution_count": 11,
   "metadata": {},
   "outputs": [],
   "source": [
    "import os\n",
    "from functools import reduce\n",
    "from operator import add\n",
    "\n",
    "import numpy as np\n",
    "\n",
    "import swcgeom\n",
    "from swcgeom.analysis import draw"
   ]
  },
  {
   "cell_type": "code",
   "execution_count": 12,
   "metadata": {},
   "outputs": [],
   "source": [
    "def collect_tips(cur: swcgeom.Tree.Node, children: list[int]) -> int:\n",
    "    cur[\"tips\"] = max(1, reduce(add, children, 0))\n",
    "    return cur[\"tips\"]\n",
    "\n",
    "def collect_length(cur: swcgeom.Tree.Node, children: list[swcgeom.Tree.Node]) -> swcgeom.Tree.Node:\n",
    "    def length(acc: float, child: swcgeom.Tree.Node) -> float:\n",
    "        return acc + cur.distance(child) + child[\"length\"]\n",
    "\n",
    "    cur[\"length\"] = reduce(length, children, 0.0)\n",
    "    return cur\n",
    "\n",
    "def add_tips_and_length(tree: swcgeom.Tree, dest: str) -> None:\n",
    "    tree.ndata[\"tips\"] = np.zeros_like(tree.id(), dtype=np.int32)\n",
    "    total_tips = tree.traverse(leave=collect_tips)\n",
    "\n",
    "    tree.ndata[\"length\"] = np.zeros_like(tree.id(), dtype=np.float32)\n",
    "    root_node = tree.traverse(leave=collect_length)\n",
    "    tree.ndata[\"r\"] = tree.ndata[\"length\"] / root_node[\"length\"] * 100\n",
    "\n",
    "    tree.to_swc(dest, extra_cols=[\"tips\", \"length\"])"
   ]
  },
  {
   "cell_type": "code",
   "execution_count": 13,
   "metadata": {},
   "outputs": [],
   "source": [
    "swc = \"data/101711-10_4p5-of-16_initial.CNG.swc\"\n",
    "tree = swcgeom.Tree.from_swc(swc)\n",
    "add_tips_and_length(tree, \"test.swc\")"
   ]
  }
 ],
 "metadata": {
  "kernelspec": {
   "display_name": "Python 3.10.7 ('.venv': venv)",
   "language": "python",
   "name": "python3"
  },
  "language_info": {
   "codemirror_mode": {
    "name": "ipython",
    "version": 3
   },
   "file_extension": ".py",
   "mimetype": "text/x-python",
   "name": "python",
   "nbconvert_exporter": "python",
   "pygments_lexer": "ipython3",
   "version": "3.10.9"
  },
  "orig_nbformat": 4,
  "vscode": {
   "interpreter": {
    "hash": "21db5054c4bdd36d7b3f647a1caf06dc143da3e719ed6f490cf46cb05d0bf21e"
   }
  }
 },
 "nbformat": 4,
 "nbformat_minor": 2
}
